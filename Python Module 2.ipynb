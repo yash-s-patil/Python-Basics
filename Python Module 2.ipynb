{
 "cells": [
  {
   "cell_type": "code",
   "execution_count": 1,
   "id": "dbb9281a",
   "metadata": {},
   "outputs": [],
   "source": [
    "# LIST "
   ]
  },
  {
   "cell_type": "code",
   "execution_count": 2,
   "id": "5f21643d",
   "metadata": {},
   "outputs": [],
   "source": [
    "father1=\"Sunil\"\n",
    "mother1=\"Pratibha\"\n",
    "sister1=\"Shreya\""
   ]
  },
  {
   "cell_type": "code",
   "execution_count": 3,
   "id": "54b8123a",
   "metadata": {},
   "outputs": [
    {
     "data": {
      "text/plain": [
       "'Sunil'"
      ]
     },
     "execution_count": 3,
     "metadata": {},
     "output_type": "execute_result"
    }
   ],
   "source": [
    "father1"
   ]
  },
  {
   "cell_type": "code",
   "execution_count": 4,
   "id": "ad4a7da7",
   "metadata": {},
   "outputs": [
    {
     "name": "stdout",
     "output_type": "stream",
     "text": [
      "Pratibha Shreya\n"
     ]
    }
   ],
   "source": [
    "print(mother1,sister1)"
   ]
  },
  {
   "cell_type": "code",
   "execution_count": 6,
   "id": "53cead2e",
   "metadata": {},
   "outputs": [],
   "source": [
    "father2=\"Archit\"\n",
    "mother2=\"Sanjana\"\n",
    "sister2=\"abc\""
   ]
  },
  {
   "cell_type": "code",
   "execution_count": 7,
   "id": "c8a4c89e",
   "metadata": {},
   "outputs": [
    {
     "name": "stdout",
     "output_type": "stream",
     "text": [
      "Archit Sanjana abc\n"
     ]
    }
   ],
   "source": [
    "print(father2,mother2,sister2)"
   ]
  },
  {
   "cell_type": "code",
   "execution_count": 8,
   "id": "53433f9e",
   "metadata": {},
   "outputs": [],
   "source": [
    "father=['sunil','archit','ravish']\n",
    "mother=['pratibha','sanjana','priti']\n",
    "sister=['shreya','kavita','rekha']\n"
   ]
  },
  {
   "cell_type": "code",
   "execution_count": 20,
   "id": "f97c0c45",
   "metadata": {},
   "outputs": [],
   "source": [
    "father.extend(['a','b','c'])"
   ]
  },
  {
   "cell_type": "code",
   "execution_count": 24,
   "id": "6e7fe111",
   "metadata": {},
   "outputs": [
    {
     "data": {
      "text/plain": [
       "['sunil', 'archit', 'ravish', 'ravi', 'a', 'b', 'c', 'ravi', 'ravi']"
      ]
     },
     "execution_count": 24,
     "metadata": {},
     "output_type": "execute_result"
    }
   ],
   "source": [
    "father"
   ]
  },
  {
   "cell_type": "code",
   "execution_count": 23,
   "id": "9868b4a2",
   "metadata": {},
   "outputs": [],
   "source": [
    "father.append('ravi') # add ele at last"
   ]
  },
  {
   "cell_type": "code",
   "execution_count": 11,
   "id": "2508a353",
   "metadata": {},
   "outputs": [
    {
     "data": {
      "text/plain": [
       "['sunil', 'archit', 'ravish', 'ravi']"
      ]
     },
     "execution_count": 11,
     "metadata": {},
     "output_type": "execute_result"
    }
   ],
   "source": [
    "father"
   ]
  },
  {
   "cell_type": "code",
   "execution_count": 13,
   "id": "2cb45daa",
   "metadata": {},
   "outputs": [],
   "source": [
    "family=[('sunil','pratibha','shreya'),\n",
    "        ('abc','xyz','pqr')]"
   ]
  },
  {
   "cell_type": "code",
   "execution_count": 14,
   "id": "d5832996",
   "metadata": {},
   "outputs": [
    {
     "data": {
      "text/plain": [
       "[('sunil', 'pratibha', 'shreya'), ('abc', 'xyz', 'pqr')]"
      ]
     },
     "execution_count": 14,
     "metadata": {},
     "output_type": "execute_result"
    }
   ],
   "source": [
    "family"
   ]
  },
  {
   "cell_type": "code",
   "execution_count": 15,
   "id": "524bce8f",
   "metadata": {},
   "outputs": [
    {
     "data": {
      "text/plain": [
       "('sunil', 'pratibha', 'shreya')"
      ]
     },
     "execution_count": 15,
     "metadata": {},
     "output_type": "execute_result"
    }
   ],
   "source": [
    "family[0]"
   ]
  },
  {
   "cell_type": "code",
   "execution_count": 25,
   "id": "75e8a59b",
   "metadata": {},
   "outputs": [],
   "source": [
    "father.remove('archit')"
   ]
  },
  {
   "cell_type": "code",
   "execution_count": 26,
   "id": "ad088d1c",
   "metadata": {},
   "outputs": [
    {
     "data": {
      "text/plain": [
       "['sunil', 'ravish', 'ravi', 'a', 'b', 'c', 'ravi', 'ravi']"
      ]
     },
     "execution_count": 26,
     "metadata": {},
     "output_type": "execute_result"
    }
   ],
   "source": [
    "father"
   ]
  },
  {
   "cell_type": "code",
   "execution_count": 27,
   "id": "6afd516e",
   "metadata": {},
   "outputs": [],
   "source": [
    "del father[2]"
   ]
  },
  {
   "cell_type": "code",
   "execution_count": 28,
   "id": "3e824f49",
   "metadata": {},
   "outputs": [
    {
     "data": {
      "text/plain": [
       "['sunil', 'ravish', 'a', 'b', 'c', 'ravi', 'ravi']"
      ]
     },
     "execution_count": 28,
     "metadata": {},
     "output_type": "execute_result"
    }
   ],
   "source": [
    "father"
   ]
  },
  {
   "cell_type": "code",
   "execution_count": 29,
   "id": "3f9d324e",
   "metadata": {},
   "outputs": [
    {
     "data": {
      "text/plain": [
       "'a'"
      ]
     },
     "execution_count": 29,
     "metadata": {},
     "output_type": "execute_result"
    }
   ],
   "source": [
    "father.pop(2)"
   ]
  },
  {
   "cell_type": "code",
   "execution_count": 30,
   "id": "21d90eae",
   "metadata": {},
   "outputs": [
    {
     "data": {
      "text/plain": [
       "['sunil', 'ravish', 'b', 'c', 'ravi', 'ravi']"
      ]
     },
     "execution_count": 30,
     "metadata": {},
     "output_type": "execute_result"
    }
   ],
   "source": [
    "father"
   ]
  },
  {
   "cell_type": "code",
   "execution_count": 31,
   "id": "f2930b30",
   "metadata": {},
   "outputs": [],
   "source": [
    "# SET"
   ]
  },
  {
   "cell_type": "code",
   "execution_count": 32,
   "id": "27631ed0",
   "metadata": {},
   "outputs": [],
   "source": [
    "restaurant=['CCD','KFC','Dominos','KFC','CCD']"
   ]
  },
  {
   "cell_type": "code",
   "execution_count": 33,
   "id": "86d9daad",
   "metadata": {},
   "outputs": [
    {
     "data": {
      "text/plain": [
       "5"
      ]
     },
     "execution_count": 33,
     "metadata": {},
     "output_type": "execute_result"
    }
   ],
   "source": [
    "len(restaurant)"
   ]
  },
  {
   "cell_type": "code",
   "execution_count": 36,
   "id": "ea9242ac",
   "metadata": {},
   "outputs": [],
   "source": [
    "x=set(restaurant)"
   ]
  },
  {
   "cell_type": "code",
   "execution_count": 37,
   "id": "7fcedf64",
   "metadata": {},
   "outputs": [
    {
     "data": {
      "text/plain": [
       "{'CCD', 'Dominos', 'KFC'}"
      ]
     },
     "execution_count": 37,
     "metadata": {},
     "output_type": "execute_result"
    }
   ],
   "source": [
    "x"
   ]
  },
  {
   "cell_type": "code",
   "execution_count": 39,
   "id": "3f8d8325",
   "metadata": {},
   "outputs": [],
   "source": [
    "x.add(\"Pizza Hut\")"
   ]
  },
  {
   "cell_type": "code",
   "execution_count": 40,
   "id": "34049572",
   "metadata": {},
   "outputs": [
    {
     "data": {
      "text/plain": [
       "{'CCD', 'Dominos', 'KFC', 'Pizza Hut'}"
      ]
     },
     "execution_count": 40,
     "metadata": {},
     "output_type": "execute_result"
    }
   ],
   "source": [
    "x"
   ]
  },
  {
   "cell_type": "code",
   "execution_count": null,
   "id": "58e3cd78",
   "metadata": {},
   "outputs": [],
   "source": []
  }
 ],
 "metadata": {
  "kernelspec": {
   "display_name": "Python 3 (ipykernel)",
   "language": "python",
   "name": "python3"
  },
  "language_info": {
   "codemirror_mode": {
    "name": "ipython",
    "version": 3
   },
   "file_extension": ".py",
   "mimetype": "text/x-python",
   "name": "python",
   "nbconvert_exporter": "python",
   "pygments_lexer": "ipython3",
   "version": "3.9.7"
  }
 },
 "nbformat": 4,
 "nbformat_minor": 5
}
